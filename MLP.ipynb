{
 "cells": [
  {
   "cell_type": "markdown",
   "metadata": {},
   "source": [
    "### Import the necessary libraries and packages.\n",
    "Tensorflow is used to extract and read the provided MNIST data only."
   ]
  },
  {
   "cell_type": "code",
   "execution_count": 29,
   "metadata": {},
   "outputs": [
    {
     "name": "stdout",
     "output_type": "stream",
     "text": [
      "Extracting MNIST_data/train-images-idx3-ubyte.gz\n",
      "Extracting MNIST_data/train-labels-idx1-ubyte.gz\n",
      "Extracting MNIST_data/t10k-images-idx3-ubyte.gz\n",
      "Extracting MNIST_data/t10k-labels-idx1-ubyte.gz\n"
     ]
    }
   ],
   "source": [
    "import numpy as np\n",
    "from tensorflow.examples.tutorials.mnist import input_data\n",
    "mnist = input_data.read_data_sets('MNIST_data', one_hot=True)\n",
    "import matplotlib.pyplot as plt"
   ]
  },
  {
   "cell_type": "markdown",
   "metadata": {},
   "source": [
    "### Define variables"
   ]
  },
  {
   "cell_type": "code",
   "execution_count": 30,
   "metadata": {},
   "outputs": [],
   "source": [
    "learning_rate  = 0.0001\n",
    "iteration      = 10000\n",
    "batch          = 300\n",
    "np.random.seed(2)"
   ]
  },
  {
   "cell_type": "markdown",
   "metadata": {},
   "source": [
    "### Helper functions"
   ]
  },
  {
   "cell_type": "code",
   "execution_count": 31,
   "metadata": {},
   "outputs": [],
   "source": [
    "def relu(x):\n",
    "    '''\n",
    "    x      : a batch sized array\n",
    "    return : an identical array except that entries below 0 are replaced with 0\n",
    "    '''\n",
    "    return np.maximum(x, 0) "
   ]
  },
  {
   "cell_type": "code",
   "execution_count": 32,
   "metadata": {},
   "outputs": [],
   "source": [
    "def cross_entropy(y_hat, y, epsilon=1e-12):\n",
    "    '''\n",
    "    y_hat   : network's prediction (a batch sized array)\n",
    "    y       : label (a batch sized array)\n",
    "    epsilon : a small value added to avoid the possibility of having log(0) in computation\n",
    "    return  : cost calculated using cross entropy formula\n",
    "    '''    \n",
    "    y_hat = np.clip(y_hat, epsilon, 1. - epsilon) #min value is epsilon and max value is (1 - epsilon)\n",
    "    loss  = -np.sum(y*np.log(y_hat))/batch #cross entropy formula\n",
    "    return loss"
   ]
  },
  {
   "cell_type": "code",
   "execution_count": 33,
   "metadata": {},
   "outputs": [],
   "source": [
    "def softmax(z):\n",
    "    '''\n",
    "    input  : network's output layer result (a batch sized array)\n",
    "    result : input transformed by the softmax function\n",
    "    '''\n",
    "    numerator   = np.exp(z)\n",
    "    denominator = np.sum(np.exp(z), axis=1, keepdims=True)\n",
    "    result      = numerator/denominator\n",
    "    return result"
   ]
  },
  {
   "cell_type": "markdown",
   "metadata": {},
   "source": [
    "### Define the weight variables"
   ]
  },
  {
   "cell_type": "code",
   "execution_count": 34,
   "metadata": {},
   "outputs": [],
   "source": [
    "W1 = np.random.randn(785,300)\n",
    "W2 = np.random.randn(301,10)"
   ]
  },
  {
   "cell_type": "markdown",
   "metadata": {},
   "source": [
    "### Training session"
   ]
  },
  {
   "cell_type": "code",
   "execution_count": 35,
   "metadata": {},
   "outputs": [
    {
     "name": "stdout",
     "output_type": "stream",
     "text": [
      "Iteration 100, loss 13.2633\n",
      "Iteration 200, loss 7.00887\n",
      "Iteration 300, loss 5.57086\n",
      "Iteration 400, loss 4.79792\n",
      "Iteration 500, loss 4.36248\n",
      "Iteration 600, loss 4.06921\n",
      "Iteration 700, loss 3.79141\n",
      "Iteration 800, loss 3.69227\n",
      "Iteration 900, loss 3.36564\n",
      "Iteration 1000, loss 3.33385\n",
      "Iteration 1100, loss 3.08606\n",
      "Iteration 1200, loss 3.02449\n",
      "Iteration 1300, loss 2.94878\n",
      "Iteration 1400, loss 2.88589\n",
      "Iteration 1500, loss 2.77774\n",
      "Iteration 1600, loss 2.66378\n",
      "Iteration 1700, loss 2.66922\n",
      "Iteration 1800, loss 2.52151\n",
      "Iteration 1900, loss 2.47711\n",
      "Iteration 2000, loss 2.45695\n",
      "Iteration 2100, loss 2.33735\n",
      "Iteration 2200, loss 2.29216\n",
      "Iteration 2300, loss 2.2311\n",
      "Iteration 2400, loss 2.21563\n",
      "Iteration 2500, loss 2.13202\n",
      "Iteration 2600, loss 2.076\n",
      "Iteration 2700, loss 1.98545\n",
      "Iteration 2800, loss 1.98158\n",
      "Iteration 2900, loss 1.92334\n",
      "Iteration 3000, loss 1.80341\n",
      "Iteration 3100, loss 1.84611\n",
      "Iteration 3200, loss 1.77371\n",
      "Iteration 3300, loss 1.70392\n",
      "Iteration 3400, loss 1.63931\n",
      "Iteration 3500, loss 1.6473\n",
      "Iteration 3600, loss 1.57553\n",
      "Iteration 3700, loss 1.50634\n",
      "Iteration 3800, loss 1.47516\n",
      "Iteration 3900, loss 1.47951\n",
      "Iteration 4000, loss 1.41452\n",
      "Iteration 4100, loss 1.39771\n",
      "Iteration 4200, loss 1.35404\n",
      "Iteration 4300, loss 1.34718\n",
      "Iteration 4400, loss 1.32037\n",
      "Iteration 4500, loss 1.28746\n",
      "Iteration 4600, loss 1.32134\n",
      "Iteration 4700, loss 1.29577\n",
      "Iteration 4800, loss 1.32071\n",
      "Iteration 4900, loss 1.29795\n",
      "Iteration 5000, loss 1.31505\n",
      "Iteration 5100, loss 1.32902\n",
      "Iteration 5200, loss 1.35669\n",
      "Iteration 5300, loss 1.38611\n",
      "Iteration 5400, loss 1.38615\n",
      "Iteration 5500, loss 1.42851\n",
      "Iteration 5600, loss 1.45727\n",
      "Iteration 5700, loss 1.48238\n",
      "Iteration 5800, loss 1.51242\n",
      "Iteration 5900, loss 1.54969\n",
      "Iteration 6000, loss 1.58469\n",
      "Iteration 6100, loss 1.59997\n",
      "Iteration 6200, loss 1.64856\n",
      "Iteration 6300, loss 1.67428\n",
      "Iteration 6400, loss 1.71047\n",
      "Iteration 6500, loss 1.73618\n",
      "Iteration 6600, loss 1.77242\n",
      "Iteration 6700, loss 1.79934\n",
      "Iteration 6800, loss 1.8208\n",
      "Iteration 6900, loss 1.8592\n",
      "Iteration 7000, loss 1.88132\n",
      "Iteration 7100, loss 1.90464\n",
      "Iteration 7200, loss 1.91443\n",
      "Iteration 7300, loss 1.95797\n",
      "Iteration 7400, loss 1.97424\n",
      "Iteration 7500, loss 1.99587\n",
      "Iteration 7600, loss 2.01771\n",
      "Iteration 7700, loss 2.03365\n",
      "Iteration 7800, loss 2.05586\n",
      "Iteration 7900, loss 2.07197\n",
      "Iteration 8000, loss 2.09095\n",
      "Iteration 8100, loss 2.10676\n",
      "Iteration 8200, loss 2.12303\n",
      "Iteration 8300, loss 2.13797\n",
      "Iteration 8400, loss 2.14979\n",
      "Iteration 8500, loss 2.16827\n",
      "Iteration 8600, loss 2.17313\n",
      "Iteration 8700, loss 2.18308\n",
      "Iteration 8800, loss 2.2021\n",
      "Iteration 8900, loss 2.21281\n",
      "Iteration 9000, loss 2.21051\n",
      "Iteration 9100, loss 2.22651\n",
      "Iteration 9200, loss 2.23\n",
      "Iteration 9300, loss 2.23948\n",
      "Iteration 9400, loss 2.2463\n",
      "Iteration 9500, loss 2.25156\n",
      "Iteration 9600, loss 2.2564\n",
      "Iteration 9700, loss 2.25987\n",
      "Iteration 9800, loss 2.26688\n",
      "Iteration 9900, loss 2.2682\n"
     ]
    }
   ],
   "source": [
    "loss = 0\n",
    "for iteration in range(iteration):\n",
    "    \n",
    "    inp_batch = mnist.train.next_batch(batch) #(batch) num of training data and labels\n",
    "    \n",
    "    x = inp_batch[0] # training data\n",
    "    y = inp_batch[1] # labels\n",
    "    \n",
    "    bias_neurons = np.ones(batch).reshape(batch, 1) # generate an array of ones\n",
    "    x = np.hstack([x, bias_neurons]) #add the array of ones at the end of each training data\n",
    "    \n",
    "    z_1 = x.dot(W1) #hidden layer transform\n",
    "    a_1 = relu(z_1) #hidden layer activation func\n",
    "    \n",
    "    a_1 = np.hstack([a_1, bias_neurons]) #add bias neurons\n",
    "    \n",
    "    z_2 = a_1.dot(W2) #output layer transformation\n",
    "    \n",
    "    y_hat = softmax(z_2) #softmax function\n",
    "    \n",
    "    cost = cross_entropy(y_hat, y) #calculate the total loss\n",
    "    \n",
    "    #Calculate the gradients (backpropagation)\n",
    "    \n",
    "    loss_wrt_output = (y_hat - y) #loss-softmax derivative\n",
    "    w2_gradients    = np.dot(a_1.T, loss_wrt_output) #gradient of W2\n",
    "    \n",
    "    loss_wrt_z1     = np.dot(loss_wrt_output, W2.T)[a_1 <=0 ] = 1 #relu derivative where values <= 0 = 0  \n",
    "    w1_gradients    = np.dot(x.T, loss_wrt_z1) #gradient of W1\n",
    "    \n",
    "    \n",
    "    #gradient descent\n",
    "    W1 -= learning_rate * w1_gradients\n",
    "    W2 -= learning_rate * w2_gradients\n",
    "    \n",
    "    loss += cost\n",
    "    \n",
    "    if iteration%100 == 0 and iteration != 0:\n",
    "        print(\"Iteration %d, loss %g\" %(iteration, loss/100))\n",
    "        loss = 0\n",
    "    "
   ]
  }
 ],
 "metadata": {
  "kernelspec": {
   "display_name": "nasa",
   "language": "python",
   "name": "nasa"
  },
  "language_info": {
   "codemirror_mode": {
    "name": "ipython",
    "version": 3
   },
   "file_extension": ".py",
   "mimetype": "text/x-python",
   "name": "python",
   "nbconvert_exporter": "python",
   "pygments_lexer": "ipython3",
   "version": "3.5.2"
  }
 },
 "nbformat": 4,
 "nbformat_minor": 2
}
